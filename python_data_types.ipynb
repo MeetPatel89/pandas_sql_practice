{
 "cells": [
  {
   "cell_type": "code",
   "execution_count": 1,
   "metadata": {},
   "outputs": [
    {
     "name": "stdout",
     "output_type": "stream",
     "text": [
      "1.1\n",
      "1.2000000000000002\n",
      "1.3000000000000003\n",
      "1.4000000000000004\n",
      "1.5000000000000004\n",
      "1.6000000000000005\n",
      "1.7000000000000006\n",
      "1.8000000000000007\n",
      "1.9000000000000008\n",
      "2.000000000000001\n",
      "2.100000000000001\n",
      "2.200000000000001\n",
      "2.300000000000001\n",
      "2.4000000000000012\n",
      "2.5000000000000013\n",
      "2.6000000000000014\n",
      "2.7000000000000015\n",
      "2.8000000000000016\n",
      "2.9000000000000017\n",
      "3.0000000000000018\n",
      "3.100000000000002\n",
      "3.200000000000002\n",
      "3.300000000000002\n",
      "3.400000000000002\n",
      "3.500000000000002\n",
      "3.6000000000000023\n",
      "3.7000000000000024\n",
      "3.8000000000000025\n",
      "3.9000000000000026\n",
      "4.000000000000003\n",
      "4.100000000000002\n",
      "4.200000000000002\n",
      "4.300000000000002\n",
      "4.400000000000001\n",
      "4.500000000000001\n",
      "4.6000000000000005\n",
      "4.7\n",
      "4.8\n",
      "4.8999999999999995\n",
      "4.999999999999999\n",
      "5.099999999999999\n",
      "5.199999999999998\n",
      "5.299999999999998\n",
      "5.399999999999998\n",
      "5.499999999999997\n",
      "5.599999999999997\n",
      "5.699999999999997\n",
      "5.799999999999996\n",
      "5.899999999999996\n",
      "5.999999999999996\n",
      "6.099999999999995\n",
      "6.199999999999995\n",
      "6.2999999999999945\n",
      "6.399999999999994\n",
      "6.499999999999994\n",
      "6.599999999999993\n",
      "6.699999999999993\n",
      "6.799999999999993\n",
      "6.899999999999992\n",
      "6.999999999999992\n",
      "7.099999999999992\n",
      "7.199999999999991\n",
      "7.299999999999991\n",
      "7.399999999999991\n",
      "7.49999999999999\n",
      "7.59999999999999\n",
      "7.6999999999999895\n",
      "7.799999999999989\n",
      "7.899999999999989\n",
      "7.9999999999999885\n",
      "8.099999999999989\n",
      "8.199999999999989\n",
      "8.299999999999988\n",
      "8.399999999999988\n",
      "8.499999999999988\n",
      "8.599999999999987\n",
      "8.699999999999987\n",
      "8.799999999999986\n",
      "8.899999999999986\n",
      "8.999999999999986\n",
      "9.099999999999985\n",
      "9.199999999999985\n",
      "9.299999999999985\n",
      "9.399999999999984\n",
      "9.499999999999984\n",
      "9.599999999999984\n",
      "9.699999999999983\n",
      "9.799999999999983\n",
      "9.899999999999983\n",
      "9.999999999999982\n",
      "10.099999999999982\n",
      "10.199999999999982\n",
      "10.299999999999981\n",
      "10.39999999999998\n",
      "10.49999999999998\n",
      "10.59999999999998\n",
      "10.69999999999998\n",
      "10.79999999999998\n",
      "10.899999999999979\n",
      "10.999999999999979\n"
     ]
    }
   ],
   "source": [
    "num = 1\n",
    "for _ in range(100):\n",
    "    num += 0.1\n",
    "    print(num)"
   ]
  },
  {
   "cell_type": "code",
   "execution_count": 2,
   "metadata": {},
   "outputs": [
    {
     "name": "stdout",
     "output_type": "stream",
     "text": [
      "(2+3j) (4+5j)\n"
     ]
    }
   ],
   "source": [
    "a = 2 + 3j\n",
    "b = complex(4, 5)\n",
    "print(a, b)"
   ]
  },
  {
   "cell_type": "code",
   "execution_count": 3,
   "metadata": {},
   "outputs": [
    {
     "data": {
      "text/plain": [
       "(-2-2j)"
      ]
     },
     "execution_count": 3,
     "metadata": {},
     "output_type": "execute_result"
    }
   ],
   "source": [
    "a - b"
   ]
  },
  {
   "cell_type": "code",
   "execution_count": 6,
   "metadata": {},
   "outputs": [],
   "source": [
    "text = \"python\"\n",
    "lst = [i.capitalize() for i in text]"
   ]
  },
  {
   "cell_type": "code",
   "execution_count": 8,
   "metadata": {},
   "outputs": [
    {
     "name": "stdout",
     "output_type": "stream",
     "text": [
      "P\n",
      "Y\n",
      "T\n",
      "H\n",
      "O\n",
      "N\n"
     ]
    }
   ],
   "source": [
    "for i in lst:\n",
    "    print(i)"
   ]
  },
  {
   "cell_type": "code",
   "execution_count": 9,
   "metadata": {},
   "outputs": [
    {
     "name": "stdout",
     "output_type": "stream",
     "text": [
      "0 P\n",
      "1 Y\n",
      "2 T\n",
      "3 H\n",
      "4 O\n",
      "5 N\n"
     ]
    }
   ],
   "source": [
    "for i, j in enumerate(lst):\n",
    "    print(i, j)"
   ]
  },
  {
   "cell_type": "code",
   "execution_count": 10,
   "metadata": {},
   "outputs": [
    {
     "data": {
      "text/plain": [
       "{'a', 'b', 'd', 'f', 'y', 'z'}"
      ]
     },
     "execution_count": 10,
     "metadata": {},
     "output_type": "execute_result"
    }
   ],
   "source": [
    "letters = ['a','b','b','z','d','f','a','f','y']\n",
    "set(letters)"
   ]
  },
  {
   "cell_type": "code",
   "execution_count": 11,
   "metadata": {},
   "outputs": [
    {
     "data": {
      "text/plain": [
       "dict_keys(['__name__', '__doc__', '__package__', '__loader__', '__spec__', 'addaudithook', 'audit', 'breakpointhook', '_clear_type_cache', '_current_frames', '_current_exceptions', 'displayhook', 'exc_info', 'excepthook', 'exit', 'getdefaultencoding', 'getallocatedblocks', 'getfilesystemencoding', 'getfilesystemencodeerrors', 'getrefcount', 'getrecursionlimit', 'getsizeof', '_getframe', 'getwindowsversion', '_enablelegacywindowsfsencoding', 'intern', 'is_finalizing', 'setswitchinterval', 'getswitchinterval', 'setprofile', 'getprofile', 'setrecursionlimit', 'settrace', 'gettrace', 'call_tracing', '_debugmallocstats', 'set_coroutine_origin_tracking_depth', 'get_coroutine_origin_tracking_depth', 'set_asyncgen_hooks', 'get_asyncgen_hooks', 'unraisablehook', '_deactivate_opcache', 'get_int_max_str_digits', 'set_int_max_str_digits', 'modules', 'stderr', '__stderr__', '__displayhook__', '__excepthook__', '__breakpointhook__', '__unraisablehook__', 'version', 'hexversion', '_git', '_framework', 'api_version', 'copyright', 'platform', 'maxsize', 'float_info', 'int_info', 'hash_info', 'maxunicode', 'builtin_module_names', 'stdlib_module_names', 'byteorder', 'dllhandle', 'winver', 'version_info', 'implementation', 'flags', 'float_repr_style', 'thread_info', 'meta_path', 'path_importer_cache', 'path_hooks', 'path', 'executable', '_base_executable', 'prefix', 'base_prefix', 'exec_prefix', 'base_exec_prefix', 'platlibdir', 'pycache_prefix', 'argv', 'orig_argv', 'warnoptions', '_xoptions', 'dont_write_bytecode', '__stdin__', 'stdin', '__stdout__', 'stdout', '_home', '__interactivehook__', 'ps1', 'ps2', 'ps3', 'last_type', 'last_value', 'last_traceback'])"
      ]
     },
     "execution_count": 11,
     "metadata": {},
     "output_type": "execute_result"
    }
   ],
   "source": [
    "import sys\n",
    "sys.__dict__.keys()"
   ]
  },
  {
   "cell_type": "code",
   "execution_count": 13,
   "metadata": {},
   "outputs": [
    {
     "name": "stdout",
     "output_type": "stream",
     "text": [
      "Var x: 111\n",
      "Var y: 45\n"
     ]
    },
    {
     "ename": "NameError",
     "evalue": "free variable 'z' referenced before assignment in enclosing scope",
     "output_type": "error",
     "traceback": [
      "\u001b[1;31m---------------------------------------------------------------------------\u001b[0m",
      "\u001b[1;31mNameError\u001b[0m                                 Traceback (most recent call last)",
      "Cell \u001b[1;32mIn[13], line 14\u001b[0m\n\u001b[0;32m     10\u001b[0m     inner_func()\n\u001b[0;32m     11\u001b[0m     z \u001b[39m=\u001b[39m \u001b[39m4444\u001b[39m\n\u001b[1;32m---> 14\u001b[0m outer_func(\u001b[39m111\u001b[39;49m)\n",
      "Cell \u001b[1;32mIn[13], line 10\u001b[0m, in \u001b[0;36mouter_func\u001b[1;34m(x)\u001b[0m\n\u001b[0;32m      7\u001b[0m     \u001b[39mprint\u001b[39m(\u001b[39mf\u001b[39m\u001b[39m\"\u001b[39m\u001b[39mVar y: \u001b[39m\u001b[39m{\u001b[39;00my\u001b[39m}\u001b[39;00m\u001b[39m\"\u001b[39m)\n\u001b[0;32m      8\u001b[0m     \u001b[39mprint\u001b[39m(\u001b[39mf\u001b[39m\u001b[39m\"\u001b[39m\u001b[39mVar z: \u001b[39m\u001b[39m{\u001b[39;00mz\u001b[39m}\u001b[39;00m\u001b[39m\"\u001b[39m)\n\u001b[1;32m---> 10\u001b[0m inner_func()\n\u001b[0;32m     11\u001b[0m z \u001b[39m=\u001b[39m \u001b[39m4444\u001b[39m\n",
      "Cell \u001b[1;32mIn[13], line 8\u001b[0m, in \u001b[0;36mouter_func.<locals>.inner_func\u001b[1;34m()\u001b[0m\n\u001b[0;32m      6\u001b[0m \u001b[39mdef\u001b[39;00m \u001b[39minner_func\u001b[39m():\n\u001b[0;32m      7\u001b[0m     \u001b[39mprint\u001b[39m(\u001b[39mf\u001b[39m\u001b[39m\"\u001b[39m\u001b[39mVar y: \u001b[39m\u001b[39m{\u001b[39;00my\u001b[39m}\u001b[39;00m\u001b[39m\"\u001b[39m)\n\u001b[1;32m----> 8\u001b[0m     \u001b[39mprint\u001b[39m(\u001b[39mf\u001b[39m\u001b[39m\"\u001b[39m\u001b[39mVar z: \u001b[39m\u001b[39m{\u001b[39;00mz\u001b[39m}\u001b[39;00m\u001b[39m\"\u001b[39m)\n",
      "\u001b[1;31mNameError\u001b[0m: free variable 'z' referenced before assignment in enclosing scope"
     ]
    }
   ],
   "source": [
    "# understanding function scopes\n",
    "def outer_func(x):\n",
    "    print(f\"Var x: {x}\")\n",
    "    y = 45\n",
    "\n",
    "    def inner_func():\n",
    "        print(f\"Var y: {y}\")\n",
    "        print(f\"Var z: {z}\")\n",
    "    \n",
    "    inner_func()\n",
    "    z = 4444\n",
    "    \n",
    "\n",
    "outer_func(111)"
   ]
  },
  {
   "cell_type": "code",
   "execution_count": 22,
   "metadata": {},
   "outputs": [
    {
     "data": {
      "text/plain": [
       "2"
      ]
     },
     "execution_count": 22,
     "metadata": {},
     "output_type": "execute_result"
    }
   ],
   "source": [
    "a = 1\n",
    "\n",
    "def f():\n",
    "  return a + 1\n",
    "\n",
    "f()"
   ]
  },
  {
   "cell_type": "code",
   "execution_count": 23,
   "metadata": {},
   "outputs": [
    {
     "name": "stdout",
     "output_type": "stream",
     "text": [
      "There is 1 cow\n",
      "There are 2 dogs\n",
      "There are one cows\n"
     ]
    }
   ],
   "source": [
    "def count_animal(amount: int,animal='cow'):\n",
    "  if amount == 1:\n",
    "    return 'There is ' + str(amount) + ' ' + animal\n",
    "  else:\n",
    "    return 'There are ' + str(amount) + ' ' + animal + 's'\n",
    "\n",
    "print(count_animal(1))\n",
    "print(count_animal(2,'dog'))\n",
    "print(count_animal('one'))"
   ]
  },
  {
   "cell_type": "code",
   "execution_count": 5,
   "metadata": {},
   "outputs": [
    {
     "name": "stdout",
     "output_type": "stream",
     "text": [
      "8\n",
      "4\n",
      "2\n",
      "1\n"
     ]
    }
   ],
   "source": [
    "def logn(n):\n",
    "    while(n>1):\n",
    "        n = n // 2\n",
    "        print(n)\n",
    "logn(16)"
   ]
  },
  {
   "cell_type": "code",
   "execution_count": null,
   "metadata": {},
   "outputs": [],
   "source": []
  }
 ],
 "metadata": {
  "kernelspec": {
   "display_name": "Python 3",
   "language": "python",
   "name": "python3"
  },
  "language_info": {
   "codemirror_mode": {
    "name": "ipython",
    "version": 3
   },
   "file_extension": ".py",
   "mimetype": "text/x-python",
   "name": "python",
   "nbconvert_exporter": "python",
   "pygments_lexer": "ipython3",
   "version": "3.10.11"
  },
  "orig_nbformat": 4
 },
 "nbformat": 4,
 "nbformat_minor": 2
}

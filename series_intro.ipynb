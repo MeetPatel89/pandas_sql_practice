{
 "cells": [
  {
   "cell_type": "code",
   "execution_count": 262,
   "metadata": {},
   "outputs": [],
   "source": [
    "import pandas as pd\n",
    "import numpy as np"
   ]
  },
  {
   "cell_type": "code",
   "execution_count": 263,
   "metadata": {},
   "outputs": [],
   "source": [
    "# one dimensional array/sequence of values with associated labels/indices"
   ]
  },
  {
   "cell_type": "code",
   "execution_count": 264,
   "metadata": {},
   "outputs": [
    {
     "data": {
      "text/plain": [
       "0     1\n",
       "1     0\n",
       "2     1\n",
       "3     2\n",
       "4     2\n",
       "5     2\n",
       "6     3\n",
       "7     4\n",
       "8     5\n",
       "9     5\n",
       "10    4\n",
       "11    4\n",
       "12    5\n",
       "13    7\n",
       "14    7\n",
       "15    7\n",
       "16    6\n",
       "dtype: int64"
      ]
     },
     "execution_count": 264,
     "metadata": {},
     "output_type": "execute_result"
    }
   ],
   "source": [
    "arr = [1, 0, 1, 2, 2, 2, 3, 4, 5, 5, 4, 4, 5, 7, 7, 7, 6]\n",
    "\n",
    "# using pandas Series constructor\n",
    "pd.Series(data=arr)"
   ]
  },
  {
   "cell_type": "code",
   "execution_count": 265,
   "metadata": {},
   "outputs": [
    {
     "data": {
      "text/plain": [
       "array([1, 0, 1, 2, 2, 2, 3, 4, 5, 5, 4, 4, 5, 7, 7, 7, 6])"
      ]
     },
     "execution_count": 265,
     "metadata": {},
     "output_type": "execute_result"
    }
   ],
   "source": [
    "# numpy n-dimensional array\n",
    "np.array(arr)"
   ]
  },
  {
   "cell_type": "code",
   "execution_count": 266,
   "metadata": {},
   "outputs": [
    {
     "data": {
      "text/plain": [
       "a    1\n",
       "b    2\n",
       "c    3\n",
       "dtype: int64"
      ]
     },
     "execution_count": 266,
     "metadata": {},
     "output_type": "execute_result"
    }
   ],
   "source": [
    "d = {'a': 1, 'b': 2, 'c': 3}\n",
    "pd.Series(data=d)"
   ]
  },
  {
   "cell_type": "code",
   "execution_count": 267,
   "metadata": {},
   "outputs": [
    {
     "data": {
      "text/plain": [
       "a    45\n",
       "b    56\n",
       "c    77\n",
       "dtype: int64"
      ]
     },
     "execution_count": 267,
     "metadata": {},
     "output_type": "execute_result"
    }
   ],
   "source": [
    "d = [45, 56, 77]\n",
    "ser = pd.Series(data=d,index=[\"a\", \"b\", \"c\"])\n",
    "ser"
   ]
  },
  {
   "cell_type": "code",
   "execution_count": 268,
   "metadata": {},
   "outputs": [
    {
     "data": {
      "text/plain": [
       "Index(['a', 'b', 'c'], dtype='object')"
      ]
     },
     "execution_count": 268,
     "metadata": {},
     "output_type": "execute_result"
    }
   ],
   "source": [
    "ser.index"
   ]
  },
  {
   "cell_type": "code",
   "execution_count": 269,
   "metadata": {},
   "outputs": [
    {
     "data": {
      "text/plain": [
       "1    45\n",
       "2    56\n",
       "3    77\n",
       "dtype: int64"
      ]
     },
     "execution_count": 269,
     "metadata": {},
     "output_type": "execute_result"
    }
   ],
   "source": [
    "d = [45, 56, 77]\n",
    "ser = pd.Series(data=d,index=[1, 2, 3])\n",
    "ser"
   ]
  },
  {
   "cell_type": "code",
   "execution_count": 270,
   "metadata": {},
   "outputs": [
    {
     "data": {
      "text/plain": [
       "Int64Index([1, 2, 3], dtype='int64')"
      ]
     },
     "execution_count": 270,
     "metadata": {},
     "output_type": "execute_result"
    }
   ],
   "source": [
    "ser.index"
   ]
  },
  {
   "cell_type": "code",
   "execution_count": 271,
   "metadata": {},
   "outputs": [
    {
     "data": {
      "text/plain": [
       "0     1.0\n",
       "1     0.0\n",
       "2     1.0\n",
       "3     2.0\n",
       "4     2.0\n",
       "5     2.0\n",
       "6     3.0\n",
       "7     4.0\n",
       "8     5.0\n",
       "9     5.0\n",
       "10    4.0\n",
       "11    4.0\n",
       "12    5.0\n",
       "13    7.0\n",
       "14    7.0\n",
       "15    7.0\n",
       "16    6.0\n",
       "dtype: float64"
      ]
     },
     "execution_count": 271,
     "metadata": {},
     "output_type": "execute_result"
    }
   ],
   "source": [
    "arr = [1, 0, 1, 2, 2, 2, 3, 4, 5, 5, 4, 4, 5, 7, 7, 7, 6]\n",
    "\n",
    "# using pandas Series constructor\n",
    "ser = pd.Series(data=arr, dtype=np.float64)\n",
    "ser"
   ]
  },
  {
   "cell_type": "code",
   "execution_count": 272,
   "metadata": {},
   "outputs": [
    {
     "data": {
      "text/plain": [
       "dtype('float64')"
      ]
     },
     "execution_count": 272,
     "metadata": {},
     "output_type": "execute_result"
    }
   ],
   "source": [
    "ser.dtype"
   ]
  },
  {
   "cell_type": "code",
   "execution_count": 273,
   "metadata": {},
   "outputs": [
    {
     "data": {
      "text/plain": [
       "RangeIndex(start=0, stop=17, step=1)"
      ]
     },
     "execution_count": 273,
     "metadata": {},
     "output_type": "execute_result"
    }
   ],
   "source": [
    "ser.index"
   ]
  },
  {
   "cell_type": "code",
   "execution_count": 274,
   "metadata": {},
   "outputs": [
    {
     "data": {
      "text/plain": [
       "4     1.0\n",
       "5     0.0\n",
       "6     1.0\n",
       "7     2.0\n",
       "8     2.0\n",
       "9     2.0\n",
       "10    3.0\n",
       "11    4.0\n",
       "12    5.0\n",
       "13    5.0\n",
       "14    4.0\n",
       "15    4.0\n",
       "16    5.0\n",
       "17    7.0\n",
       "18    7.0\n",
       "19    7.0\n",
       "20    6.0\n",
       "dtype: float64"
      ]
     },
     "execution_count": 274,
     "metadata": {},
     "output_type": "execute_result"
    }
   ],
   "source": [
    "arr = [1, 0, 1, 2, 2, 2, 3, 4, 5, 5, 4, 4, 5, 7, 7, 7, 6]\n",
    "\n",
    "# using pandas Series constructor\n",
    "ser = pd.Series(data=arr, dtype=np.float64, index=pd.RangeIndex(start=4, stop=21, step=1))\n",
    "ser\n"
   ]
  },
  {
   "cell_type": "code",
   "execution_count": 275,
   "metadata": {},
   "outputs": [
    {
     "data": {
      "text/plain": [
       "pandas.core.indexes.range.RangeIndex"
      ]
     },
     "execution_count": 275,
     "metadata": {},
     "output_type": "execute_result"
    }
   ],
   "source": [
    "type(ser.index)"
   ]
  },
  {
   "cell_type": "code",
   "execution_count": 276,
   "metadata": {},
   "outputs": [
    {
     "data": {
      "text/plain": [
       "a_1        Fooled by Randomness\n",
       "a_2    On the Origin of Species\n",
       "a_3                 World War Z\n",
       "dtype: string"
      ]
     },
     "execution_count": 276,
     "metadata": {},
     "output_type": "execute_result"
    }
   ],
   "source": [
    "books_list = [\"Fooled by Randomness\", \"On the Origin of Species\", \"World War Z\"]\n",
    "ser = pd.Series(data=books_list, index=[\"a_1\", \"a_2\", \"a_3\"], dtype=\"string\")\n",
    "ser"
   ]
  },
  {
   "cell_type": "code",
   "execution_count": 277,
   "metadata": {},
   "outputs": [
    {
     "data": {
      "text/plain": [
       "True"
      ]
     },
     "execution_count": 277,
     "metadata": {},
     "output_type": "execute_result"
    }
   ],
   "source": [
    "ser.name == None"
   ]
  },
  {
   "cell_type": "code",
   "execution_count": 278,
   "metadata": {},
   "outputs": [
    {
     "data": {
      "text/html": [
       "<div>\n",
       "<style scoped>\n",
       "    .dataframe tbody tr th:only-of-type {\n",
       "        vertical-align: middle;\n",
       "    }\n",
       "\n",
       "    .dataframe tbody tr th {\n",
       "        vertical-align: top;\n",
       "    }\n",
       "\n",
       "    .dataframe thead th {\n",
       "        text-align: right;\n",
       "    }\n",
       "</style>\n",
       "<table border=\"1\" class=\"dataframe\">\n",
       "  <thead>\n",
       "    <tr style=\"text-align: right;\">\n",
       "      <th></th>\n",
       "      <th>0</th>\n",
       "    </tr>\n",
       "  </thead>\n",
       "  <tbody>\n",
       "    <tr>\n",
       "      <th>a_1</th>\n",
       "      <td>Fooled by Randomness</td>\n",
       "    </tr>\n",
       "    <tr>\n",
       "      <th>a_2</th>\n",
       "      <td>On the Origin of Species</td>\n",
       "    </tr>\n",
       "    <tr>\n",
       "      <th>a_3</th>\n",
       "      <td>World War Z</td>\n",
       "    </tr>\n",
       "  </tbody>\n",
       "</table>\n",
       "</div>"
      ],
      "text/plain": [
       "                            0\n",
       "a_1      Fooled by Randomness\n",
       "a_2  On the Origin of Species\n",
       "a_3               World War Z"
      ]
     },
     "execution_count": 278,
     "metadata": {},
     "output_type": "execute_result"
    }
   ],
   "source": [
    "ser.to_frame()"
   ]
  },
  {
   "cell_type": "code",
   "execution_count": 279,
   "metadata": {},
   "outputs": [],
   "source": [
    "ser.name = \"my favorite books\""
   ]
  },
  {
   "cell_type": "code",
   "execution_count": 280,
   "metadata": {},
   "outputs": [
    {
     "data": {
      "text/plain": [
       "a_1        Fooled by Randomness\n",
       "a_2    On the Origin of Species\n",
       "a_3                 World War Z\n",
       "Name: my favorite books, dtype: string"
      ]
     },
     "execution_count": 280,
     "metadata": {},
     "output_type": "execute_result"
    }
   ],
   "source": [
    "ser"
   ]
  },
  {
   "cell_type": "code",
   "execution_count": 281,
   "metadata": {},
   "outputs": [
    {
     "data": {
      "text/html": [
       "<div>\n",
       "<style scoped>\n",
       "    .dataframe tbody tr th:only-of-type {\n",
       "        vertical-align: middle;\n",
       "    }\n",
       "\n",
       "    .dataframe tbody tr th {\n",
       "        vertical-align: top;\n",
       "    }\n",
       "\n",
       "    .dataframe thead th {\n",
       "        text-align: right;\n",
       "    }\n",
       "</style>\n",
       "<table border=\"1\" class=\"dataframe\">\n",
       "  <thead>\n",
       "    <tr style=\"text-align: right;\">\n",
       "      <th></th>\n",
       "      <th>my favorite books</th>\n",
       "    </tr>\n",
       "  </thead>\n",
       "  <tbody>\n",
       "    <tr>\n",
       "      <th>a_1</th>\n",
       "      <td>Fooled by Randomness</td>\n",
       "    </tr>\n",
       "    <tr>\n",
       "      <th>a_2</th>\n",
       "      <td>On the Origin of Species</td>\n",
       "    </tr>\n",
       "    <tr>\n",
       "      <th>a_3</th>\n",
       "      <td>World War Z</td>\n",
       "    </tr>\n",
       "  </tbody>\n",
       "</table>\n",
       "</div>"
      ],
      "text/plain": [
       "            my favorite books\n",
       "a_1      Fooled by Randomness\n",
       "a_2  On the Origin of Species\n",
       "a_3               World War Z"
      ]
     },
     "execution_count": 281,
     "metadata": {},
     "output_type": "execute_result"
    }
   ],
   "source": [
    "ser.to_frame()"
   ]
  },
  {
   "cell_type": "code",
   "execution_count": 282,
   "metadata": {},
   "outputs": [
    {
     "data": {
      "text/plain": [
       "True"
      ]
     },
     "execution_count": 282,
     "metadata": {},
     "output_type": "execute_result"
    }
   ],
   "source": [
    "ser.index.name == None"
   ]
  },
  {
   "cell_type": "code",
   "execution_count": 283,
   "metadata": {},
   "outputs": [
    {
     "data": {
      "text/plain": [
       "my_favorite_indices\n",
       "a_1        Fooled by Randomness\n",
       "a_2    On the Origin of Species\n",
       "a_3                 World War Z\n",
       "Name: my favorite books, dtype: string"
      ]
     },
     "execution_count": 283,
     "metadata": {},
     "output_type": "execute_result"
    }
   ],
   "source": [
    "ser.index.name = \"my_favorite_indices\"\n",
    "ser"
   ]
  },
  {
   "cell_type": "code",
   "execution_count": 284,
   "metadata": {},
   "outputs": [
    {
     "data": {
      "text/html": [
       "<div>\n",
       "<style scoped>\n",
       "    .dataframe tbody tr th:only-of-type {\n",
       "        vertical-align: middle;\n",
       "    }\n",
       "\n",
       "    .dataframe tbody tr th {\n",
       "        vertical-align: top;\n",
       "    }\n",
       "\n",
       "    .dataframe thead th {\n",
       "        text-align: right;\n",
       "    }\n",
       "</style>\n",
       "<table border=\"1\" class=\"dataframe\">\n",
       "  <thead>\n",
       "    <tr style=\"text-align: right;\">\n",
       "      <th></th>\n",
       "      <th>my favorite books</th>\n",
       "    </tr>\n",
       "    <tr>\n",
       "      <th>my_favorite_indices</th>\n",
       "      <th></th>\n",
       "    </tr>\n",
       "  </thead>\n",
       "  <tbody>\n",
       "    <tr>\n",
       "      <th>a_1</th>\n",
       "      <td>Fooled by Randomness</td>\n",
       "    </tr>\n",
       "    <tr>\n",
       "      <th>a_2</th>\n",
       "      <td>On the Origin of Species</td>\n",
       "    </tr>\n",
       "    <tr>\n",
       "      <th>a_3</th>\n",
       "      <td>World War Z</td>\n",
       "    </tr>\n",
       "  </tbody>\n",
       "</table>\n",
       "</div>"
      ],
      "text/plain": [
       "                            my favorite books\n",
       "my_favorite_indices                          \n",
       "a_1                      Fooled by Randomness\n",
       "a_2                  On the Origin of Species\n",
       "a_3                               World War Z"
      ]
     },
     "execution_count": 284,
     "metadata": {},
     "output_type": "execute_result"
    }
   ],
   "source": [
    "ser.to_frame()"
   ]
  },
  {
   "cell_type": "code",
   "execution_count": 285,
   "metadata": {},
   "outputs": [],
   "source": [
    "# pd.option.display.min_rows = 40"
   ]
  },
  {
   "cell_type": "code",
   "execution_count": 286,
   "metadata": {},
   "outputs": [],
   "source": [
    "from string import ascii_lowercase, ascii_uppercase"
   ]
  },
  {
   "cell_type": "code",
   "execution_count": 287,
   "metadata": {},
   "outputs": [
    {
     "data": {
      "text/plain": [
       "'abcdefghijklmnopqrstuvwxyz'"
      ]
     },
     "execution_count": 287,
     "metadata": {},
     "output_type": "execute_result"
    }
   ],
   "source": [
    "ascii_lowercase"
   ]
  },
  {
   "cell_type": "code",
   "execution_count": 288,
   "metadata": {},
   "outputs": [
    {
     "data": {
      "text/plain": [
       "Label_A    a\n",
       "Label_B    b\n",
       "Label_C    c\n",
       "Label_D    d\n",
       "Label_E    e\n",
       "Label_F    f\n",
       "Label_G    g\n",
       "Label_H    h\n",
       "Label_I    i\n",
       "Label_J    j\n",
       "Label_K    k\n",
       "Label_L    l\n",
       "Label_M    m\n",
       "Label_N    n\n",
       "Label_O    o\n",
       "Label_P    p\n",
       "Label_Q    q\n",
       "Label_R    r\n",
       "Label_S    s\n",
       "Label_T    t\n",
       "Label_U    u\n",
       "Label_V    v\n",
       "Label_W    w\n",
       "Label_X    x\n",
       "Label_Y    y\n",
       "Label_Z    z\n",
       "dtype: object"
      ]
     },
     "execution_count": 288,
     "metadata": {},
     "output_type": "execute_result"
    }
   ],
   "source": [
    "ser = pd.Series(data=list(ascii_lowercase), index=[f\"Label_{i}\" for i in list(ascii_uppercase)])\n",
    "ser"
   ]
  },
  {
   "cell_type": "code",
   "execution_count": 289,
   "metadata": {},
   "outputs": [
    {
     "data": {
      "text/plain": [
       "Label_A    a\n",
       "Label_B    b\n",
       "Label_C    c\n",
       "Label_D    d\n",
       "Label_E    e\n",
       "Label_F    f\n",
       "Label_G    g\n",
       "Label_H    h\n",
       "Label_I    i\n",
       "Label_J    j\n",
       "Label_K    k\n",
       "Label_L    l\n",
       "Label_M    m\n",
       "Label_N    n\n",
       "Label_O    o\n",
       "Label_P    p\n",
       "Label_Q    q\n",
       "Label_R    r\n",
       "Label_S    s\n",
       "Label_T    t\n",
       "Label_U    u\n",
       "Label_V    v\n",
       "Label_W    w\n",
       "Label_X    x\n",
       "Label_Y    y\n",
       "Label_Z    z\n",
       "dtype: object"
      ]
     },
     "execution_count": 289,
     "metadata": {},
     "output_type": "execute_result"
    }
   ],
   "source": [
    "ser = pd.Series(data=list(ascii_lowercase), index=map(lambda x: f\"Label_{x}\", list(ascii_uppercase)))\n",
    "ser"
   ]
  },
  {
   "cell_type": "code",
   "execution_count": 290,
   "metadata": {},
   "outputs": [
    {
     "data": {
      "text/plain": [
       "Label_U    u\n",
       "Label_V    v\n",
       "Label_W    w\n",
       "Label_X    x\n",
       "Label_Y    y\n",
       "Label_Z    z\n",
       "dtype: object"
      ]
     },
     "execution_count": 290,
     "metadata": {},
     "output_type": "execute_result"
    }
   ],
   "source": [
    "# find last six letters in series using label indexing \n",
    "ser[\"Label_U\":]"
   ]
  },
  {
   "cell_type": "code",
   "execution_count": 291,
   "metadata": {},
   "outputs": [
    {
     "data": {
      "text/plain": [
       "Label_U    u\n",
       "Label_V    v\n",
       "Label_W    w\n",
       "Label_X    x\n",
       "Label_Y    y\n",
       "Label_Z    z\n",
       "dtype: object"
      ]
     },
     "execution_count": 291,
     "metadata": {},
     "output_type": "execute_result"
    }
   ],
   "source": [
    "# find last six letters in series using label indexing \n",
    "# end index is inclusive when using labels\n",
    "ser[\"Label_U\": \"Label_Z\"]"
   ]
  },
  {
   "cell_type": "code",
   "execution_count": 292,
   "metadata": {},
   "outputs": [
    {
     "data": {
      "text/html": [
       "<div>\n",
       "<style scoped>\n",
       "    .dataframe tbody tr th:only-of-type {\n",
       "        vertical-align: middle;\n",
       "    }\n",
       "\n",
       "    .dataframe tbody tr th {\n",
       "        vertical-align: top;\n",
       "    }\n",
       "\n",
       "    .dataframe thead th {\n",
       "        text-align: right;\n",
       "    }\n",
       "</style>\n",
       "<table border=\"1\" class=\"dataframe\">\n",
       "  <thead>\n",
       "    <tr style=\"text-align: right;\">\n",
       "      <th></th>\n",
       "      <th>A</th>\n",
       "      <th>B</th>\n",
       "    </tr>\n",
       "  </thead>\n",
       "  <tbody>\n",
       "    <tr>\n",
       "      <th>0</th>\n",
       "      <td>1</td>\n",
       "      <td>3</td>\n",
       "    </tr>\n",
       "    <tr>\n",
       "      <th>1</th>\n",
       "      <td>2</td>\n",
       "      <td>4</td>\n",
       "    </tr>\n",
       "    <tr>\n",
       "      <th>2</th>\n",
       "      <td>3</td>\n",
       "      <td>5</td>\n",
       "    </tr>\n",
       "    <tr>\n",
       "      <th>3</th>\n",
       "      <td>4</td>\n",
       "      <td>6</td>\n",
       "    </tr>\n",
       "  </tbody>\n",
       "</table>\n",
       "</div>"
      ],
      "text/plain": [
       "   A  B\n",
       "0  1  3\n",
       "1  2  4\n",
       "2  3  5\n",
       "3  4  6"
      ]
     },
     "execution_count": 292,
     "metadata": {},
     "output_type": "execute_result"
    }
   ],
   "source": [
    "# adding prefixes and suffixes\n",
    "df = pd.DataFrame({'A': [1, 2, 3, 4], 'B': [3, 4, 5, 6]})\n",
    "df"
   ]
  },
  {
   "cell_type": "code",
   "execution_count": 293,
   "metadata": {},
   "outputs": [
    {
     "data": {
      "text/html": [
       "<div>\n",
       "<style scoped>\n",
       "    .dataframe tbody tr th:only-of-type {\n",
       "        vertical-align: middle;\n",
       "    }\n",
       "\n",
       "    .dataframe tbody tr th {\n",
       "        vertical-align: top;\n",
       "    }\n",
       "\n",
       "    .dataframe thead th {\n",
       "        text-align: right;\n",
       "    }\n",
       "</style>\n",
       "<table border=\"1\" class=\"dataframe\">\n",
       "  <thead>\n",
       "    <tr style=\"text-align: right;\">\n",
       "      <th></th>\n",
       "      <th>Label_A</th>\n",
       "      <th>Label_B</th>\n",
       "    </tr>\n",
       "  </thead>\n",
       "  <tbody>\n",
       "    <tr>\n",
       "      <th>0</th>\n",
       "      <td>1</td>\n",
       "      <td>3</td>\n",
       "    </tr>\n",
       "    <tr>\n",
       "      <th>1</th>\n",
       "      <td>2</td>\n",
       "      <td>4</td>\n",
       "    </tr>\n",
       "    <tr>\n",
       "      <th>2</th>\n",
       "      <td>3</td>\n",
       "      <td>5</td>\n",
       "    </tr>\n",
       "    <tr>\n",
       "      <th>3</th>\n",
       "      <td>4</td>\n",
       "      <td>6</td>\n",
       "    </tr>\n",
       "  </tbody>\n",
       "</table>\n",
       "</div>"
      ],
      "text/plain": [
       "   Label_A  Label_B\n",
       "0        1        3\n",
       "1        2        4\n",
       "2        3        5\n",
       "3        4        6"
      ]
     },
     "execution_count": 293,
     "metadata": {},
     "output_type": "execute_result"
    }
   ],
   "source": [
    "df.add_prefix(\"Label_\")"
   ]
  },
  {
   "cell_type": "code",
   "execution_count": 294,
   "metadata": {},
   "outputs": [
    {
     "data": {
      "text/plain": [
       "Label_U    u\n",
       "Label_V    v\n",
       "Label_W    w\n",
       "Label_X    x\n",
       "Label_Y    y\n",
       "Label_Z    z\n",
       "dtype: object"
      ]
     },
     "execution_count": 294,
     "metadata": {},
     "output_type": "execute_result"
    }
   ],
   "source": [
    "# iloc indexer\n",
    "ser.iloc[-6:]"
   ]
  },
  {
   "cell_type": "code",
   "execution_count": 295,
   "metadata": {},
   "outputs": [
    {
     "data": {
      "text/plain": [
       "Label_U    u\n",
       "Label_V    v\n",
       "Label_W    w\n",
       "Label_X    x\n",
       "Label_Y    y\n",
       "Label_Z    z\n",
       "dtype: object"
      ]
     },
     "execution_count": 295,
     "metadata": {},
     "output_type": "execute_result"
    }
   ],
   "source": [
    "# loc indexer\n",
    "ser.loc[\"Label_U\":]"
   ]
  },
  {
   "cell_type": "code",
   "execution_count": 296,
   "metadata": {},
   "outputs": [
    {
     "data": {
      "text/plain": [
       "Label_A    a\n",
       "Label_U    u\n",
       "Label_X    x\n",
       "dtype: object"
      ]
     },
     "execution_count": 296,
     "metadata": {},
     "output_type": "execute_result"
    }
   ],
   "source": [
    "# series after implementing boolean masking using boolean series based on given logical conditions\n",
    "ser.loc[(ser == \"u\") | (ser == \"x\") | (ser == \"a\")]"
   ]
  },
  {
   "cell_type": "code",
   "execution_count": 297,
   "metadata": {},
   "outputs": [
    {
     "data": {
      "text/plain": [
       "Label_A     True\n",
       "Label_B    False\n",
       "Label_C    False\n",
       "Label_D    False\n",
       "Label_E    False\n",
       "Label_F    False\n",
       "Label_G    False\n",
       "Label_H    False\n",
       "Label_I    False\n",
       "Label_J    False\n",
       "Label_K    False\n",
       "Label_L    False\n",
       "Label_M    False\n",
       "Label_N    False\n",
       "Label_O    False\n",
       "Label_P    False\n",
       "Label_Q    False\n",
       "Label_R    False\n",
       "Label_S    False\n",
       "Label_T    False\n",
       "Label_U     True\n",
       "Label_V    False\n",
       "Label_W    False\n",
       "Label_X     True\n",
       "Label_Y    False\n",
       "Label_Z    False\n",
       "dtype: bool"
      ]
     },
     "execution_count": 297,
     "metadata": {},
     "output_type": "execute_result"
    }
   ],
   "source": [
    "# boolean series based on logical conditions\n",
    "(ser == \"u\") | (ser == \"x\") | (ser == \"a\")"
   ]
  },
  {
   "cell_type": "code",
   "execution_count": 298,
   "metadata": {},
   "outputs": [
    {
     "data": {
      "text/plain": [
       "Label_B    b\n",
       "Label_E    e\n",
       "Label_J    j\n",
       "dtype: object"
      ]
     },
     "execution_count": 298,
     "metadata": {},
     "output_type": "execute_result"
    }
   ],
   "source": [
    "ser.loc[[\"Label_B\", \"Label_E\", \"Label_J\"]]"
   ]
  },
  {
   "cell_type": "code",
   "execution_count": null,
   "metadata": {},
   "outputs": [],
   "source": [
    "# usecols and index_col"
   ]
  },
  {
   "cell_type": "code",
   "execution_count": 306,
   "metadata": {},
   "outputs": [],
   "source": [
    "ser = pd.read_csv(\"https://andybek.com/pandas-drinks\", usecols=[\"country\", \"wine_servings\"], index_col=[\"country\"]).squeeze()"
   ]
  },
  {
   "cell_type": "code",
   "execution_count": 307,
   "metadata": {},
   "outputs": [
    {
     "data": {
      "text/plain": [
       "country\n",
       "Afghanistan      NaN\n",
       "Albania         54.0\n",
       "Algeria         14.0\n",
       "Andorra        312.0\n",
       "Angola          45.0\n",
       "               ...  \n",
       "Venezuela        3.0\n",
       "Vietnam          1.0\n",
       "Yemen            NaN\n",
       "Zambia           4.0\n",
       "Zimbabwe         4.0\n",
       "Name: wine_servings, Length: 193, dtype: float64"
      ]
     },
     "execution_count": 307,
     "metadata": {},
     "output_type": "execute_result"
    }
   ],
   "source": [
    "ser"
   ]
  },
  {
   "cell_type": "code",
   "execution_count": 308,
   "metadata": {},
   "outputs": [
    {
     "data": {
      "text/plain": [
       "False"
      ]
     },
     "execution_count": 308,
     "metadata": {},
     "output_type": "execute_result"
    }
   ],
   "source": [
    "ser.is_unique"
   ]
  },
  {
   "cell_type": "code",
   "execution_count": 309,
   "metadata": {},
   "outputs": [
    {
     "data": {
      "text/plain": [
       "array([ nan,  54.,  14., 312.,  45., 221.,  11., 212., 191.,   5.,  51.,\n",
       "         7.,  36.,  42.,   8.,  13.,  35.,  16.,   1.,  94.,   4., 172.,\n",
       "         3.,   9.,  74., 254., 113., 134., 278.,  26.,   2., 233.,  59.,\n",
       "        97.,  37., 149., 175., 218.,  28.,  21., 185.,  78., 165., 237.,\n",
       "        12.,   6., 123.,  62.,  31.,  56., 271.,  18., 128.,  19., 129.,\n",
       "        23., 339., 167.,  73.,  32.,  71.,  24., 127., 116., 276.,  81.,\n",
       "       112., 186.,  86., 195.,  84.,  22.])"
      ]
     },
     "execution_count": 309,
     "metadata": {},
     "output_type": "execute_result"
    }
   ],
   "source": [
    "ser.unique()"
   ]
  },
  {
   "cell_type": "code",
   "execution_count": 311,
   "metadata": {},
   "outputs": [
    {
     "data": {
      "text/plain": [
       "False"
      ]
     },
     "execution_count": 311,
     "metadata": {},
     "output_type": "execute_result"
    }
   ],
   "source": [
    "ser.nunique() == ser.size"
   ]
  },
  {
   "cell_type": "code",
   "execution_count": 312,
   "metadata": {},
   "outputs": [
    {
     "data": {
      "text/plain": [
       "False"
      ]
     },
     "execution_count": 312,
     "metadata": {},
     "output_type": "execute_result"
    }
   ],
   "source": [
    "ser.nunique() == len(ser)"
   ]
  },
  {
   "cell_type": "code",
   "execution_count": 313,
   "metadata": {},
   "outputs": [
    {
     "data": {
      "text/plain": [
       "False"
      ]
     },
     "execution_count": 313,
     "metadata": {},
     "output_type": "execute_result"
    }
   ],
   "source": [
    "ser.nunique() == ser.shape[0]"
   ]
  },
  {
   "cell_type": "code",
   "execution_count": 314,
   "metadata": {},
   "outputs": [
    {
     "data": {
      "text/plain": [
       "193"
      ]
     },
     "execution_count": 314,
     "metadata": {},
     "output_type": "execute_result"
    }
   ],
   "source": [
    "ser.shape[0]"
   ]
  },
  {
   "cell_type": "code",
   "execution_count": 315,
   "metadata": {},
   "outputs": [
    {
     "data": {
      "text/plain": [
       "162"
      ]
     },
     "execution_count": 315,
     "metadata": {},
     "output_type": "execute_result"
    }
   ],
   "source": [
    "ser.count()"
   ]
  },
  {
   "cell_type": "code",
   "execution_count": 316,
   "metadata": {},
   "outputs": [
    {
     "data": {
      "text/plain": [
       "(162,)"
      ]
     },
     "execution_count": 316,
     "metadata": {},
     "output_type": "execute_result"
    }
   ],
   "source": [
    "ser.dropna().shape"
   ]
  },
  {
   "cell_type": "code",
   "execution_count": 318,
   "metadata": {},
   "outputs": [
    {
     "data": {
      "text/plain": [
       "True"
      ]
     },
     "execution_count": 318,
     "metadata": {},
     "output_type": "execute_result"
    }
   ],
   "source": [
    "ser.hasnans"
   ]
  },
  {
   "cell_type": "code",
   "execution_count": 321,
   "metadata": {},
   "outputs": [
    {
     "data": {
      "text/plain": [
       "country\n",
       "Afghanistan        NaN\n",
       "Bangladesh         NaN\n",
       "Bhutan             NaN\n",
       "Burundi            NaN\n",
       "North Korea        NaN\n",
       "Eritrea            NaN\n",
       "Ethiopia           NaN\n",
       "India              NaN\n",
       "Indonesia          NaN\n",
       "Iran               NaN\n",
       "Iraq               NaN\n",
       "Kuwait             NaN\n",
       "Lesotho            NaN\n",
       "Libya              NaN\n",
       "Malaysia           NaN\n",
       "Maldives           NaN\n",
       "Marshall Islands   NaN\n",
       "Mauritania         NaN\n",
       "Monaco             NaN\n",
       "Myanmar            NaN\n",
       "Nepal              NaN\n",
       "Pakistan           NaN\n",
       "Rwanda             NaN\n",
       "San Marino         NaN\n",
       "Saudi Arabia       NaN\n",
       "Somalia            NaN\n",
       "Sri Lanka          NaN\n",
       "Sudan              NaN\n",
       "Tajikistan         NaN\n",
       "Uganda             NaN\n",
       "Yemen              NaN\n",
       "Name: wine_servings, dtype: float64"
      ]
     },
     "execution_count": 321,
     "metadata": {},
     "output_type": "execute_result"
    }
   ],
   "source": [
    "ser.loc[ser.isna()]"
   ]
  },
  {
   "cell_type": "code",
   "execution_count": 322,
   "metadata": {},
   "outputs": [
    {
     "data": {
      "text/plain": [
       "country\n",
       "Afghanistan        NaN\n",
       "Bangladesh         NaN\n",
       "Bhutan             NaN\n",
       "Burundi            NaN\n",
       "North Korea        NaN\n",
       "Eritrea            NaN\n",
       "Ethiopia           NaN\n",
       "India              NaN\n",
       "Indonesia          NaN\n",
       "Iran               NaN\n",
       "Iraq               NaN\n",
       "Kuwait             NaN\n",
       "Lesotho            NaN\n",
       "Libya              NaN\n",
       "Malaysia           NaN\n",
       "Maldives           NaN\n",
       "Marshall Islands   NaN\n",
       "Mauritania         NaN\n",
       "Monaco             NaN\n",
       "Myanmar            NaN\n",
       "Nepal              NaN\n",
       "Pakistan           NaN\n",
       "Rwanda             NaN\n",
       "San Marino         NaN\n",
       "Saudi Arabia       NaN\n",
       "Somalia            NaN\n",
       "Sri Lanka          NaN\n",
       "Sudan              NaN\n",
       "Tajikistan         NaN\n",
       "Uganda             NaN\n",
       "Yemen              NaN\n",
       "Name: wine_servings, dtype: float64"
      ]
     },
     "execution_count": 322,
     "metadata": {},
     "output_type": "execute_result"
    }
   ],
   "source": [
    "ser.loc[ser.isnull()]"
   ]
  },
  {
   "cell_type": "code",
   "execution_count": 323,
   "metadata": {},
   "outputs": [
    {
     "data": {
      "text/plain": [
       "Index(['Afghanistan', 'Bangladesh', 'Bhutan', 'Burundi', 'North Korea',\n",
       "       'Eritrea', 'Ethiopia', 'India', 'Indonesia', 'Iran', 'Iraq', 'Kuwait',\n",
       "       'Lesotho', 'Libya', 'Malaysia', 'Maldives', 'Marshall Islands',\n",
       "       'Mauritania', 'Monaco', 'Myanmar', 'Nepal', 'Pakistan', 'Rwanda',\n",
       "       'San Marino', 'Saudi Arabia', 'Somalia', 'Sri Lanka', 'Sudan',\n",
       "       'Tajikistan', 'Uganda', 'Yemen'],\n",
       "      dtype='object', name='country')"
      ]
     },
     "execution_count": 323,
     "metadata": {},
     "output_type": "execute_result"
    }
   ],
   "source": [
    "ser.loc[ser.isna()].index"
   ]
  },
  {
   "cell_type": "code",
   "execution_count": 324,
   "metadata": {},
   "outputs": [
    {
     "data": {
      "text/plain": [
       "31"
      ]
     },
     "execution_count": 324,
     "metadata": {},
     "output_type": "execute_result"
    }
   ],
   "source": [
    "ser.isna().sum()"
   ]
  },
  {
   "cell_type": "code",
   "execution_count": 332,
   "metadata": {},
   "outputs": [
    {
     "data": {
      "text/plain": [
       "country\n",
       "Afghanistan        NaN\n",
       "Bangladesh         NaN\n",
       "Bhutan             NaN\n",
       "Burundi            NaN\n",
       "North Korea        NaN\n",
       "Eritrea            NaN\n",
       "Ethiopia           NaN\n",
       "India              NaN\n",
       "Indonesia          NaN\n",
       "Iran               NaN\n",
       "Iraq               NaN\n",
       "Kuwait             NaN\n",
       "Lesotho            NaN\n",
       "Libya              NaN\n",
       "Malaysia           NaN\n",
       "Maldives           NaN\n",
       "Marshall Islands   NaN\n",
       "Mauritania         NaN\n",
       "Monaco             NaN\n",
       "Myanmar            NaN\n",
       "Nepal              NaN\n",
       "Pakistan           NaN\n",
       "Rwanda             NaN\n",
       "San Marino         NaN\n",
       "Saudi Arabia       NaN\n",
       "Somalia            NaN\n",
       "Sri Lanka          NaN\n",
       "Sudan              NaN\n",
       "Tajikistan         NaN\n",
       "Uganda             NaN\n",
       "Yemen              NaN\n",
       "Name: wine_servings, dtype: float64"
      ]
     },
     "execution_count": 332,
     "metadata": {},
     "output_type": "execute_result"
    }
   ],
   "source": [
    "# finding nulls using numpy universal functions\n",
    "ser.loc[np.isnan]"
   ]
  },
  {
   "cell_type": "code",
   "execution_count": 335,
   "metadata": {},
   "outputs": [
    {
     "data": {
      "text/plain": [
       "country\n",
       "Albania               54.0\n",
       "Algeria               14.0\n",
       "Andorra              312.0\n",
       "Angola                45.0\n",
       "Antigua & Barbuda     45.0\n",
       "                     ...  \n",
       "Vanuatu               11.0\n",
       "Venezuela              3.0\n",
       "Vietnam                1.0\n",
       "Zambia                 4.0\n",
       "Zimbabwe               4.0\n",
       "Name: wine_servings, Length: 162, dtype: float64"
      ]
     },
     "execution_count": 335,
     "metadata": {},
     "output_type": "execute_result"
    }
   ],
   "source": [
    "ser.loc[ser.notna()]"
   ]
  },
  {
   "cell_type": "code",
   "execution_count": 336,
   "metadata": {},
   "outputs": [
    {
     "data": {
      "text/plain": [
       "country\n",
       "Albania               54.0\n",
       "Algeria               14.0\n",
       "Andorra              312.0\n",
       "Angola                45.0\n",
       "Antigua & Barbuda     45.0\n",
       "                     ...  \n",
       "Vanuatu               11.0\n",
       "Venezuela              3.0\n",
       "Vietnam                1.0\n",
       "Zambia                 4.0\n",
       "Zimbabwe               4.0\n",
       "Name: wine_servings, Length: 162, dtype: float64"
      ]
     },
     "execution_count": 336,
     "metadata": {},
     "output_type": "execute_result"
    }
   ],
   "source": [
    "ser.dropna()"
   ]
  },
  {
   "cell_type": "code",
   "execution_count": 337,
   "metadata": {},
   "outputs": [
    {
     "data": {
      "text/plain": [
       "country\n",
       "Afghanistan      0.0\n",
       "Albania         54.0\n",
       "Algeria         14.0\n",
       "Andorra        312.0\n",
       "Angola          45.0\n",
       "               ...  \n",
       "Venezuela        3.0\n",
       "Vietnam          1.0\n",
       "Yemen            0.0\n",
       "Zambia           4.0\n",
       "Zimbabwe         4.0\n",
       "Name: wine_servings, Length: 193, dtype: float64"
      ]
     },
     "execution_count": 337,
     "metadata": {},
     "output_type": "execute_result"
    }
   ],
   "source": [
    "ser.fillna(0)"
   ]
  },
  {
   "cell_type": "code",
   "execution_count": 342,
   "metadata": {},
   "outputs": [
    {
     "data": {
      "text/plain": [
       "count    162.000000\n",
       "mean      50.746914\n",
       "std       76.134917\n",
       "min        1.000000\n",
       "25%        3.000000\n",
       "50%       11.500000\n",
       "75%       61.250000\n",
       "max      339.000000\n",
       "Name: wine_servings, dtype: float64"
      ]
     },
     "execution_count": 342,
     "metadata": {},
     "output_type": "execute_result"
    }
   ],
   "source": [
    "ser.describe()"
   ]
  },
  {
   "cell_type": "code",
   "execution_count": 343,
   "metadata": {},
   "outputs": [
    {
     "data": {
      "text/plain": [
       "array([ 0,  2,  4,  6,  8, 10, 12, 14, 16, 18])"
      ]
     },
     "execution_count": 343,
     "metadata": {},
     "output_type": "execute_result"
    }
   ],
   "source": [
    "np.arange(start=0, stop=20, step=2)"
   ]
  },
  {
   "cell_type": "code",
   "execution_count": 344,
   "metadata": {},
   "outputs": [
    {
     "data": {
      "text/plain": [
       "array([0. , 0.5, 1. , 1.5, 2. , 2.5, 3. , 3.5, 4. , 4.5])"
      ]
     },
     "execution_count": 344,
     "metadata": {},
     "output_type": "execute_result"
    }
   ],
   "source": [
    "np.arange(start=0, stop=5, step=0.5)"
   ]
  },
  {
   "cell_type": "code",
   "execution_count": 347,
   "metadata": {},
   "outputs": [
    {
     "data": {
      "text/plain": [
       "0.00      1.00\n",
       "0.25      3.00\n",
       "0.50     11.50\n",
       "0.75     61.25\n",
       "1.00    339.00\n",
       "Name: wine_servings, dtype: float64"
      ]
     },
     "execution_count": 347,
     "metadata": {},
     "output_type": "execute_result"
    }
   ],
   "source": [
    "ser.quantile(q=np.linspace(start=0, stop=1, num=5))"
   ]
  },
  {
   "cell_type": "code",
   "execution_count": 356,
   "metadata": {},
   "outputs": [
    {
     "data": {
      "text/plain": [
       "1.0      28\n",
       "2.0      10\n",
       "7.0       9\n",
       "8.0       7\n",
       "5.0       6\n",
       "         ..\n",
       "218.0     1\n",
       "185.0     1\n",
       "78.0      1\n",
       "165.0     1\n",
       "22.0      1\n",
       "Name: wine_servings, Length: 71, dtype: int64"
      ]
     },
     "execution_count": 356,
     "metadata": {},
     "output_type": "execute_result"
    }
   ],
   "source": [
    "ser.value_counts()"
   ]
  },
  {
   "cell_type": "code",
   "execution_count": 351,
   "metadata": {},
   "outputs": [
    {
     "data": {
      "text/plain": [
       "0    1.0\n",
       "Name: wine_servings, dtype: float64"
      ]
     },
     "execution_count": 351,
     "metadata": {},
     "output_type": "execute_result"
    }
   ],
   "source": [
    "ser.mode()"
   ]
  },
  {
   "cell_type": "code",
   "execution_count": 361,
   "metadata": {},
   "outputs": [
    {
     "data": {
      "text/plain": [
       "country\n",
       "Portugal    339.0\n",
       "Name: wine_servings, dtype: float64"
      ]
     },
     "execution_count": 361,
     "metadata": {},
     "output_type": "execute_result"
    }
   ],
   "source": [
    "ser.loc[ser == ser.max()]"
   ]
  },
  {
   "cell_type": "code",
   "execution_count": 366,
   "metadata": {},
   "outputs": [
    {
     "name": "stdout",
     "output_type": "stream",
     "text": [
      "Brunei\n",
      "Cambodia\n",
      "Canada\n",
      "Central African Republic\n",
      "Chad\n",
      "Comoros\n",
      "DR Congo\n",
      "Egypt\n",
      "Fiji\n",
      "Gambia\n",
      "Ghana\n",
      "Guyana\n",
      "Haiti\n",
      "Jordan\n",
      "Kiribati\n",
      "Malawi\n",
      "Mali\n",
      "Morocco\n",
      "Namibia\n",
      "Nicaragua\n",
      "Niger\n",
      "Oman\n",
      "Papua New Guinea\n",
      "Philippines\n",
      "Solomon Islands\n",
      "Thailand\n",
      "Tanzania\n",
      "Vietnam\n"
     ]
    }
   ],
   "source": [
    "for i in ser.loc[ser == ser.min()].index:\n",
    "    print(i)"
   ]
  },
  {
   "cell_type": "code",
   "execution_count": 368,
   "metadata": {},
   "outputs": [
    {
     "data": {
      "text/plain": [
       "Afghanistan     NaN\n",
       "Albania        60.0\n",
       "Algeria         NaN\n",
       "Andorra         NaN\n",
       "Angola          NaN\n",
       "               ... \n",
       "Venezuela       NaN\n",
       "Vietnam         NaN\n",
       "Yemen           NaN\n",
       "Zambia          NaN\n",
       "Zimbabwe        NaN\n",
       "Length: 193, dtype: float64"
      ]
     },
     "execution_count": 368,
     "metadata": {},
     "output_type": "execute_result"
    }
   ],
   "source": [
    "ser + pd.Series({\"Albania\": 6})"
   ]
  },
  {
   "cell_type": "code",
   "execution_count": 369,
   "metadata": {},
   "outputs": [
    {
     "data": {
      "text/plain": [
       "Afghanistan      NaN\n",
       "Albania         60.0\n",
       "Algeria         14.0\n",
       "Andorra        312.0\n",
       "Angola          45.0\n",
       "               ...  \n",
       "Venezuela        3.0\n",
       "Vietnam          1.0\n",
       "Yemen            NaN\n",
       "Zambia           4.0\n",
       "Zimbabwe         4.0\n",
       "Length: 193, dtype: float64"
      ]
     },
     "execution_count": 369,
     "metadata": {},
     "output_type": "execute_result"
    }
   ],
   "source": [
    "ser.add(pd.Series({\"Albania\": 6}), fill_value=0)"
   ]
  },
  {
   "cell_type": "code",
   "execution_count": null,
   "metadata": {},
   "outputs": [],
   "source": []
  }
 ],
 "metadata": {
  "kernelspec": {
   "display_name": "Python 3",
   "language": "python",
   "name": "python3"
  },
  "language_info": {
   "codemirror_mode": {
    "name": "ipython",
    "version": 3
   },
   "file_extension": ".py",
   "mimetype": "text/x-python",
   "name": "python",
   "nbconvert_exporter": "python",
   "pygments_lexer": "ipython3",
   "version": "3.10.11"
  },
  "orig_nbformat": 4
 },
 "nbformat": 4,
 "nbformat_minor": 2
}

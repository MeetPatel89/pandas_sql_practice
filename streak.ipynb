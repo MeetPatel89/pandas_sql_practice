{
 "cells": [
  {
   "cell_type": "code",
   "execution_count": 2,
   "metadata": {},
   "outputs": [
    {
     "name": "stdout",
     "output_type": "stream",
     "text": [
      "[2, 2, 2]\n",
      "[5, 5]\n",
      "[4, 4]\n",
      "[7, 7, 7]\n"
     ]
    }
   ],
   "source": [
    "arr = [1, 0, 1, 2, 2, 2, 3, 4, 5, 5, 4, 4, 5, 7, 7, 7, 6]\n",
    "\n",
    "previous_value = arr[0]\n",
    "streak_begin = 0\n",
    "streak_end = 0\n",
    "\n",
    "for index, value in enumerate(arr[1:]):\n",
    "    if value == previous_value:\n",
    "        streak_end = index + 1\n",
    "    else:\n",
    "        if streak_end- streak_begin >= 1:\n",
    "            print(arr[streak_begin: streak_end + 1])\n",
    "        streak_begin = index + 1\n",
    "        streak_end = index + 1\n",
    "    previous_value = value\n",
    "    if index == len(arr[1:]) - 1:\n",
    "        if streak_end - streak_begin >= 1:\n",
    "            print(arr[streak_begin: streak_end + 1])"
   ]
  },
  {
   "cell_type": "code",
   "execution_count": null,
   "metadata": {},
   "outputs": [],
   "source": []
  }
 ],
 "metadata": {
  "kernelspec": {
   "display_name": "Python 3",
   "language": "python",
   "name": "python3"
  },
  "language_info": {
   "codemirror_mode": {
    "name": "ipython",
    "version": 3
   },
   "file_extension": ".py",
   "mimetype": "text/x-python",
   "name": "python",
   "nbconvert_exporter": "python",
   "pygments_lexer": "ipython3",
   "version": "3.10.11"
  },
  "orig_nbformat": 4
 },
 "nbformat": 4,
 "nbformat_minor": 2
}

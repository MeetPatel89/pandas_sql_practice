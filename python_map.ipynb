{
 "cells": [
  {
   "cell_type": "code",
   "execution_count": 10,
   "metadata": {},
   "outputs": [],
   "source": [
    "import pandas as pd\n",
    "import numpy as np"
   ]
  },
  {
   "cell_type": "code",
   "execution_count": 11,
   "metadata": {},
   "outputs": [
    {
     "data": {
      "text/plain": [
       "[('Berline', 29),\n",
       " ('Cairo', 36),\n",
       " ('Buenos Aires', 19),\n",
       " ('Los Angeles', 26),\n",
       " ('Tokyo', 27),\n",
       " ('New York', 28),\n",
       " ('London', 22),\n",
       " ('Beijing', 32)]"
      ]
     },
     "execution_count": 11,
     "metadata": {},
     "output_type": "execute_result"
    }
   ],
   "source": [
    "temps = [(\"Berline\", 29), (\"Cairo\", 36), (\"Buenos Aires\", 19), (\"Los Angeles\", 26), (\"Tokyo\", 27), (\"New York\", 28), (\"London\", 22), (\"Beijing\", 32)]\n",
    "temps"
   ]
  },
  {
   "cell_type": "code",
   "execution_count": 12,
   "metadata": {},
   "outputs": [],
   "source": [
    "# lambda function to convert fahrenheit to celsius\n",
    "f = lambda x: (x[0], (9/5)*x[1] + 32)"
   ]
  },
  {
   "cell_type": "code",
   "execution_count": 13,
   "metadata": {},
   "outputs": [
    {
     "data": {
      "text/plain": [
       "[('Berline', 84.2),\n",
       " ('Cairo', 96.8),\n",
       " ('Buenos Aires', 66.2),\n",
       " ('Los Angeles', 78.80000000000001),\n",
       " ('Tokyo', 80.6),\n",
       " ('New York', 82.4),\n",
       " ('London', 71.6),\n",
       " ('Beijing', 89.6)]"
      ]
     },
     "execution_count": 13,
     "metadata": {},
     "output_type": "execute_result"
    }
   ],
   "source": [
    "list(map(f, temps))"
   ]
  },
  {
   "cell_type": "code",
   "execution_count": 14,
   "metadata": {},
   "outputs": [
    {
     "data": {
      "text/plain": [
       "[('Berline', 84.2),\n",
       " ('Cairo', 96.8),\n",
       " ('Buenos Aires', 66.2),\n",
       " ('Los Angeles', 78.80000000000001),\n",
       " ('Tokyo', 80.6),\n",
       " ('New York', 82.4),\n",
       " ('London', 71.6),\n",
       " ('Beijing', 89.6)]"
      ]
     },
     "execution_count": 14,
     "metadata": {},
     "output_type": "execute_result"
    }
   ],
   "source": [
    "# list comprehension approach for solving aforementioned problem\n",
    "[f(i) for i in temps]"
   ]
  },
  {
   "cell_type": "code",
   "execution_count": null,
   "metadata": {},
   "outputs": [],
   "source": []
  }
 ],
 "metadata": {
  "kernelspec": {
   "display_name": "Python 3",
   "language": "python",
   "name": "python3"
  },
  "language_info": {
   "codemirror_mode": {
    "name": "ipython",
    "version": 3
   },
   "file_extension": ".py",
   "mimetype": "text/x-python",
   "name": "python",
   "nbconvert_exporter": "python",
   "pygments_lexer": "ipython3",
   "version": "3.10.11"
  },
  "orig_nbformat": 4
 },
 "nbformat": 4,
 "nbformat_minor": 2
}
